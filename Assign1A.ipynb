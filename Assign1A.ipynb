{
 "cells": [
  {
   "cell_type": "raw",
   "id": "a0f8eaeb",
   "metadata": {},
   "source": [
    "!pip install bs4\n",
    "!pip install requests \n",
    "!install urlib"
   ]
  },
  {
   "cell_type": "code",
   "execution_count": 7,
   "id": "25ebea48",
   "metadata": {},
   "outputs": [],
   "source": [
    "from bs4 import BeautifulSoup\n",
    "import requests"
   ]
  },
  {
   "cell_type": "code",
   "execution_count": 6,
   "id": "e761dc1f",
   "metadata": {},
   "outputs": [],
   "source": [
    "from urllib.request import urlopen"
   ]
  },
  {
   "cell_type": "code",
   "execution_count": 8,
   "id": "a08da34d",
   "metadata": {},
   "outputs": [],
   "source": [
    "wiki=requests.get(\"https://www.wikipedia.org/\")"
   ]
  },
  {
   "cell_type": "code",
   "execution_count": 9,
   "id": "06d9a3b6",
   "metadata": {},
   "outputs": [],
   "source": [
    "page"
   ]
  },
  {
   "cell_type": "code",
   "execution_count": 11,
   "id": "86ff8b7a",
   "metadata": {},
   "outputs": [],
   "source": [
    "url='https://www.wikipedia.org/'"
   ]
  },
  {
   "cell_type": "code",
   "execution_count": 12,
   "id": "90034eb8",
   "metadata": {},
   "outputs": [],
   "source": [
    "fileObj=urlopen(url)"
   ]
  },
  {
   "cell_type": "code",
   "execution_count": 13,
   "id": "b4442fca",
   "metadata": {},
   "outputs": [],
   "source": [
    "html=fileObj.read()"
   ]
  },
  {
   "cell_type": "code",
   "execution_count": 14,
   "id": "694ee4d2",
   "metadata": {},
   "outputs": [],
   "source": [
    "soup=BeautifulSoup(html,'html.parser')"
   ]
  },
  {
   "cell_type": "code",
   "execution_count": 15,
   "id": "761f15e4",
   "metadata": {},
   "outputs": [],
   "source": [
    "heading_tags=[\"h1\",\"h2\",\"h3\"]"
   ]
  },
  {
   "cell_type": "code",
   "execution_count": 16,
   "id": "662d9e0c",
   "metadata": {},
   "outputs": [
    {
     "name": "stdout",
     "output_type": "stream",
     "text": [
      "h1->Wikipedia\n",
      "\n",
      "The Free Encyclopedia\n",
      "h2->1 000 000+\n",
      "\n",
      "\n",
      "articles\n",
      "h2->100 000+\n",
      "\n",
      "\n",
      "articles\n",
      "h2->10 000+\n",
      "\n",
      "\n",
      "articles\n",
      "h2->1 000+\n",
      "\n",
      "\n",
      "articles\n",
      "h2->100+\n",
      "\n",
      "\n",
      "articles\n"
     ]
    }
   ],
   "source": [
    "for tags in soup.find_all(heading_tags):\n",
    "    print(tags.name + '->' + tags.text.strip())"
   ]
  },
  {
   "cell_type": "code",
   "execution_count": null,
   "id": "0c432899",
   "metadata": {},
   "outputs": [],
   "source": []
  }
 ],
 "metadata": {
  "kernelspec": {
   "display_name": "Python 3 (ipykernel)",
   "language": "python",
   "name": "python3"
  },
  "language_info": {
   "codemirror_mode": {
    "name": "ipython",
    "version": 3
   },
   "file_extension": ".py",
   "mimetype": "text/x-python",
   "name": "python",
   "nbconvert_exporter": "python",
   "pygments_lexer": "ipython3",
   "version": "3.9.12"
  }
 },
 "nbformat": 4,
 "nbformat_minor": 5
}
